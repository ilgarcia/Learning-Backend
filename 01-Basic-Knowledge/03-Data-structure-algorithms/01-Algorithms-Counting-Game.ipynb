{
 "cells": [
  {
   "cell_type": "markdown",
   "metadata": {},
   "source": [
    "# Counting Game\n",
    "\n",
    "## What is an algorithm\n",
    "\n",
    "*A set of steps or instructions for completing a task.*\n",
    "\n",
    "The task can have multiple viable solutions there's not only one best solution instead what we should try and figure out what solution works better for the current problem, some problems are pretty common and already have a set of solutions for the given task and knowing this solutions can be better to implement than resolving the problem yourself, your solution won't be as good or efficient compared to those that have been thoroughly reviewed.\n",
    "\n",
    "Part of understanding algorithm is not just knowing that an algorithm exist but properly understanding the problem, breaking the problem and then be able to identify witch algorithm or data structure is best to the task at hand (algorithm thinking). "
   ]
  },
  {
   "cell_type": "markdown",
   "metadata": {},
   "source": [
    "## Defining algorithm\n",
    "\n",
    "What makes an algorithm is the specificity of how it is defined, following a certain ser of guidelines and use the same steps to solve the problem each time we face it.\n",
    "\n",
    "- The algorithm must have a clear problem statement\n",
    "- How the inputs is defined and what the output looks like when the algorithm has done its job\n",
    "- Contain a specific set of instructions in a particular order, we really need to be clear about the order which these instructions are executed\n",
    "- The steps also need to be distinct\n",
    "- The algorithm should produce a result \n",
    "- Must be complete and can not take a infinite amount of time\n",
    "\n",
    "**Correctness**\n",
    "\n",
    "An algorithm is deemed correct if on every run of the algorithm against all possible values in the input data we always get the output we expect and for any possible input the algorithm should always terminate or end.\n",
    "\n",
    "**Efficiency**\n",
    "\n",
    "1. Efficiency measured by time (Time complexity) - Running time of an algorithm is how long it takes the algorithm to run\n",
    "\n",
    "2. Efficiency measured by space (Space complexity) - Amount of memory taken up on the computer\n",
    "\n",
    ":rotating_light: Good algorithms need to balance between these two mesures to be useful\n",
    "\n",
    "## Search algorithms example\n",
    "\n",
    "**linear search or sequencial search**\n",
    "\n",
    "1. Start at the beginning of the list or the range of values \n",
    "2. Compare the current value to the target if the current value:  \n",
    "    * Is equal the target we're looking for we're done\n",
    "    * Is not equal we'll on sequentially to the next value in the list and repeat step 2\n",
    "\n",
    "**Binary search**\n",
    "1. Start at the middle of the range \n",
    "2. Compare the current value to the target if the current value:  \n",
    "    * Is equal the target we're looking for we're done\n",
    "    * it is greater or less go to step 3\n",
    "3. Eliminate the values lower than the current value if the target is greater or Eliminate the values greater than the current value if the target is lower, after that start the processes again (step 1)"
   ]
  },
  {
   "cell_type": "markdown",
   "metadata": {},
   "source": [
    "## Big O Notation \n",
    "\n",
    "<p>\n",
    "  <img src=\"./img/big-o.png\" alt=\"big-o\" style=\"width:250px;\" />\n",
    "</p>\n",
    "\n",
    "Theoretical definition of the complexity of an algorithm as a function of the size.\n",
    "\n",
    "**O(n)** - Order of magnitude of complexity as the input sizes grow, also measures how the algorithm performs in the worst case scenario \n",
    "\n",
    "*Big O* is a useful notation for understanding both time and space complexity only when comparing amongst algorithms that solves the same problem.\n",
    "\n",
    "**Run Time:**\n",
    "\n",
    "- Constant time **O(1)**\n",
    "\n",
    "Size doesn't matter and regardless of the size of *n* the algorithm runtime will remain the same\n",
    "\n",
    "- Logarithmic or sub-linear Runtime **O(log n)**\n",
    "\n",
    "As the size of *n* grows the number of operations grows very slowly\n",
    "\n",
    "- Linear time **O(n)**\n",
    "\n",
    "The number of operations at the worst case scenario is at most the same size as *n*\n",
    "\n",
    "- Quadratic time **O(n<sup>2</sup>)**"
   ]
  }
 ],
 "metadata": {
  "interpreter": {
   "hash": "da7826e44f8669f80ffcdc6fa70d78eb37654cce041df83071e298341d8c0685"
  },
  "kernelspec": {
   "display_name": "Python 3.10.2 64-bit",
   "language": "python",
   "name": "python3"
  },
  "language_info": {
   "name": "python",
   "version": "3.10.2"
  },
  "orig_nbformat": 4
 },
 "nbformat": 4,
 "nbformat_minor": 2
}
